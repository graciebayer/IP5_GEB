{
 "cells": [
  {
   "cell_type": "code",
   "execution_count": 1,
   "id": "21664a93",
   "metadata": {},
   "outputs": [],
   "source": [
    "import numpy as np\n",
    "import matplotlib.pyplot as plt\n",
    "import pandas as pd\n",
    "import seaborn as sns"
   ]
  },
  {
   "cell_type": "code",
   "execution_count": 2,
   "id": "c7007822",
   "metadata": {},
   "outputs": [],
   "source": [
    "dataset=pd.read_csv(\"Self Awareness Dataset-2.csv\")"
   ]
  },
  {
   "cell_type": "code",
   "execution_count": 32,
   "id": "77569ca8",
   "metadata": {},
   "outputs": [
    {
     "data": {
      "text/html": [
       "<div>\n",
       "<style scoped>\n",
       "    .dataframe tbody tr th:only-of-type {\n",
       "        vertical-align: middle;\n",
       "    }\n",
       "\n",
       "    .dataframe tbody tr th {\n",
       "        vertical-align: top;\n",
       "    }\n",
       "\n",
       "    .dataframe thead th {\n",
       "        text-align: right;\n",
       "    }\n",
       "</style>\n",
       "<table border=\"1\" class=\"dataframe\">\n",
       "  <thead>\n",
       "    <tr style=\"text-align: right;\">\n",
       "      <th></th>\n",
       "      <th>Date</th>\n",
       "      <th>Day</th>\n",
       "      <th>Sleep Hour</th>\n",
       "      <th>Exercise Hour</th>\n",
       "      <th>Study Hour</th>\n",
       "      <th>StudyDS Hour</th>\n",
       "      <th>Work Hour</th>\n",
       "      <th>End of the day Feeling (0 to 10)</th>\n",
       "    </tr>\n",
       "  </thead>\n",
       "  <tbody>\n",
       "    <tr>\n",
       "      <th>0</th>\n",
       "      <td>14-Jan</td>\n",
       "      <td>Friday</td>\n",
       "      <td>5.0</td>\n",
       "      <td>1.0</td>\n",
       "      <td>2.0</td>\n",
       "      <td>0.0</td>\n",
       "      <td>7.0</td>\n",
       "      <td>6.0</td>\n",
       "    </tr>\n",
       "    <tr>\n",
       "      <th>1</th>\n",
       "      <td>15-Jan</td>\n",
       "      <td>Saturday</td>\n",
       "      <td>5.0</td>\n",
       "      <td>0.0</td>\n",
       "      <td>0.0</td>\n",
       "      <td>0.0</td>\n",
       "      <td>2.0</td>\n",
       "      <td>4.0</td>\n",
       "    </tr>\n",
       "    <tr>\n",
       "      <th>2</th>\n",
       "      <td>16-Jan</td>\n",
       "      <td>Sunday</td>\n",
       "      <td>8.0</td>\n",
       "      <td>1.0</td>\n",
       "      <td>1.0</td>\n",
       "      <td>0.0</td>\n",
       "      <td>12.0</td>\n",
       "      <td>5.0</td>\n",
       "    </tr>\n",
       "    <tr>\n",
       "      <th>3</th>\n",
       "      <td>17-Jan</td>\n",
       "      <td>Monday</td>\n",
       "      <td>3.0</td>\n",
       "      <td>1.0</td>\n",
       "      <td>5.0</td>\n",
       "      <td>3.0</td>\n",
       "      <td>4.0</td>\n",
       "      <td>8.0</td>\n",
       "    </tr>\n",
       "    <tr>\n",
       "      <th>4</th>\n",
       "      <td>18-Jan</td>\n",
       "      <td>Tuesday</td>\n",
       "      <td>7.0</td>\n",
       "      <td>1.0</td>\n",
       "      <td>5.0</td>\n",
       "      <td>1.0</td>\n",
       "      <td>5.5</td>\n",
       "      <td>10.0</td>\n",
       "    </tr>\n",
       "  </tbody>\n",
       "</table>\n",
       "</div>"
      ],
      "text/plain": [
       "     Date       Day  Sleep Hour  Exercise Hour  Study Hour  StudyDS Hour  \\\n",
       "0  14-Jan    Friday         5.0            1.0         2.0           0.0   \n",
       "1  15-Jan  Saturday         5.0            0.0         0.0           0.0   \n",
       "2  16-Jan    Sunday         8.0            1.0         1.0           0.0   \n",
       "3  17-Jan    Monday         3.0            1.0         5.0           3.0   \n",
       "4  18-Jan   Tuesday         7.0            1.0         5.0           1.0   \n",
       "\n",
       "   Work Hour  End of the day Feeling (0 to 10)  \n",
       "0        7.0                               6.0  \n",
       "1        2.0                               4.0  \n",
       "2       12.0                               5.0  \n",
       "3        4.0                               8.0  \n",
       "4        5.5                              10.0  "
      ]
     },
     "execution_count": 32,
     "metadata": {},
     "output_type": "execute_result"
    }
   ],
   "source": [
    "dataset.head()"
   ]
  },
  {
   "cell_type": "code",
   "execution_count": 33,
   "id": "b3037f9a",
   "metadata": {},
   "outputs": [],
   "source": [
    "dataset.drop(['Date','Day'], axis=1, inplace=True)"
   ]
  },
  {
   "cell_type": "code",
   "execution_count": 34,
   "id": "11505cb0",
   "metadata": {},
   "outputs": [
    {
     "data": {
      "text/plain": [
       "Index(['Sleep Hour', 'Exercise Hour', 'Study Hour', 'StudyDS Hour',\n",
       "       'Work Hour', 'End of the day Feeling (0 to 10)'],\n",
       "      dtype='object')"
      ]
     },
     "execution_count": 34,
     "metadata": {},
     "output_type": "execute_result"
    }
   ],
   "source": [
    "dataset.columns"
   ]
  },
  {
   "cell_type": "code",
   "execution_count": 35,
   "id": "f8c16428",
   "metadata": {},
   "outputs": [
    {
     "data": {
      "text/plain": [
       "Sleep Hour                          1\n",
       "Exercise Hour                       1\n",
       "Study Hour                          1\n",
       "StudyDS Hour                        1\n",
       "Work Hour                           1\n",
       "End of the day Feeling (0 to 10)    1\n",
       "dtype: int64"
      ]
     },
     "execution_count": 35,
     "metadata": {},
     "output_type": "execute_result"
    }
   ],
   "source": [
    "dataset.isnull().sum()"
   ]
  },
  {
   "cell_type": "code",
   "execution_count": 55,
   "id": "6450d677",
   "metadata": {},
   "outputs": [],
   "source": [
    "dataset['Sleep Hour'].fillna(dataset['Sleep Hour'].mode()[0], inplace=True)"
   ]
  },
  {
   "cell_type": "code",
   "execution_count": 56,
   "id": "018e8d83",
   "metadata": {},
   "outputs": [],
   "source": [
    "dataset['Exercise Hour'].fillna(dataset['Exercise Hour'].mode()[0], inplace=True)"
   ]
  },
  {
   "cell_type": "code",
   "execution_count": 57,
   "id": "dc7031a4",
   "metadata": {},
   "outputs": [],
   "source": [
    "dataset['Study Hour'].fillna(dataset['Study Hour'].mode()[0], inplace=True)"
   ]
  },
  {
   "cell_type": "code",
   "execution_count": 58,
   "id": "2904ec97",
   "metadata": {},
   "outputs": [],
   "source": [
    "dataset['StudyDS Hour'].fillna(dataset['StudyDS Hour'].mode()[0], inplace=True)"
   ]
  },
  {
   "cell_type": "code",
   "execution_count": 59,
   "id": "37530ddd",
   "metadata": {},
   "outputs": [],
   "source": [
    "dataset['Work Hour'].fillna(dataset['Work Hour'].mode()[0], inplace=True)"
   ]
  },
  {
   "cell_type": "code",
   "execution_count": 60,
   "id": "8f4699a3",
   "metadata": {},
   "outputs": [],
   "source": [
    "dataset['End of the day Feeling (0 to 10)'].fillna(dataset['End of the day Feeling (0 to 10)'].mode()[0], inplace=True)"
   ]
  },
  {
   "cell_type": "code",
   "execution_count": 61,
   "id": "64c0af8e",
   "metadata": {},
   "outputs": [
    {
     "data": {
      "text/plain": [
       "Sleep Hour                          0\n",
       "Exercise Hour                       0\n",
       "Study Hour                          0\n",
       "StudyDS Hour                        0\n",
       "Work Hour                           0\n",
       "End of the day Feeling (0 to 10)    0\n",
       "dtype: int64"
      ]
     },
     "execution_count": 61,
     "metadata": {},
     "output_type": "execute_result"
    }
   ],
   "source": [
    "dataset.isnull().sum()"
   ]
  },
  {
   "cell_type": "code",
   "execution_count": 62,
   "id": "ba496dd5",
   "metadata": {},
   "outputs": [
    {
     "name": "stdout",
     "output_type": "stream",
     "text": [
      "<class 'pandas.core.frame.DataFrame'>\n",
      "RangeIndex: 66 entries, 0 to 65\n",
      "Data columns (total 6 columns):\n",
      " #   Column                            Non-Null Count  Dtype  \n",
      "---  ------                            --------------  -----  \n",
      " 0   Sleep Hour                        66 non-null     float64\n",
      " 1   Exercise Hour                     66 non-null     float64\n",
      " 2   Study Hour                        66 non-null     float64\n",
      " 3   StudyDS Hour                      66 non-null     float64\n",
      " 4   Work Hour                         66 non-null     float64\n",
      " 5   End of the day Feeling (0 to 10)  66 non-null     float64\n",
      "dtypes: float64(6)\n",
      "memory usage: 3.2 KB\n"
     ]
    }
   ],
   "source": [
    "dataset.info()"
   ]
  },
  {
   "cell_type": "code",
   "execution_count": 63,
   "id": "f6f310f6",
   "metadata": {},
   "outputs": [
    {
     "data": {
      "text/plain": [
       "Index(['Sleep Hour', 'Exercise Hour', 'Study Hour', 'StudyDS Hour',\n",
       "       'Work Hour', 'End of the day Feeling (0 to 10)'],\n",
       "      dtype='object')"
      ]
     },
     "execution_count": 63,
     "metadata": {},
     "output_type": "execute_result"
    }
   ],
   "source": [
    "dataset.columns"
   ]
  },
  {
   "cell_type": "code",
   "execution_count": 64,
   "id": "d3645ffb",
   "metadata": {},
   "outputs": [],
   "source": [
    "X=dataset.iloc[::-1].values\n",
    "y=dataset.iloc[:-1].values"
   ]
  },
  {
   "cell_type": "code",
   "execution_count": 65,
   "id": "d4328cd3",
   "metadata": {},
   "outputs": [],
   "source": [
    "X=dataset[['Sleep Hour', 'Exercise Hour', 'Study Hour', 'StudyDS Hour', 'Work Hour']]\n",
    "y=dataset[['End of the day Feeling (0 to 10)']]"
   ]
  },
  {
   "cell_type": "code",
   "execution_count": 66,
   "id": "cf2427f7",
   "metadata": {},
   "outputs": [
    {
     "data": {
      "text/html": [
       "<div>\n",
       "<style scoped>\n",
       "    .dataframe tbody tr th:only-of-type {\n",
       "        vertical-align: middle;\n",
       "    }\n",
       "\n",
       "    .dataframe tbody tr th {\n",
       "        vertical-align: top;\n",
       "    }\n",
       "\n",
       "    .dataframe thead th {\n",
       "        text-align: right;\n",
       "    }\n",
       "</style>\n",
       "<table border=\"1\" class=\"dataframe\">\n",
       "  <thead>\n",
       "    <tr style=\"text-align: right;\">\n",
       "      <th></th>\n",
       "      <th>Sleep Hour</th>\n",
       "      <th>Exercise Hour</th>\n",
       "      <th>Study Hour</th>\n",
       "      <th>StudyDS Hour</th>\n",
       "      <th>Work Hour</th>\n",
       "    </tr>\n",
       "  </thead>\n",
       "  <tbody>\n",
       "    <tr>\n",
       "      <th>0</th>\n",
       "      <td>5.0</td>\n",
       "      <td>1.0</td>\n",
       "      <td>2.0</td>\n",
       "      <td>0.0</td>\n",
       "      <td>7.0</td>\n",
       "    </tr>\n",
       "    <tr>\n",
       "      <th>1</th>\n",
       "      <td>5.0</td>\n",
       "      <td>0.0</td>\n",
       "      <td>0.0</td>\n",
       "      <td>0.0</td>\n",
       "      <td>2.0</td>\n",
       "    </tr>\n",
       "    <tr>\n",
       "      <th>2</th>\n",
       "      <td>8.0</td>\n",
       "      <td>1.0</td>\n",
       "      <td>1.0</td>\n",
       "      <td>0.0</td>\n",
       "      <td>12.0</td>\n",
       "    </tr>\n",
       "    <tr>\n",
       "      <th>3</th>\n",
       "      <td>3.0</td>\n",
       "      <td>1.0</td>\n",
       "      <td>5.0</td>\n",
       "      <td>3.0</td>\n",
       "      <td>4.0</td>\n",
       "    </tr>\n",
       "    <tr>\n",
       "      <th>4</th>\n",
       "      <td>7.0</td>\n",
       "      <td>1.0</td>\n",
       "      <td>5.0</td>\n",
       "      <td>1.0</td>\n",
       "      <td>5.5</td>\n",
       "    </tr>\n",
       "  </tbody>\n",
       "</table>\n",
       "</div>"
      ],
      "text/plain": [
       "   Sleep Hour  Exercise Hour  Study Hour  StudyDS Hour  Work Hour\n",
       "0         5.0            1.0         2.0           0.0        7.0\n",
       "1         5.0            0.0         0.0           0.0        2.0\n",
       "2         8.0            1.0         1.0           0.0       12.0\n",
       "3         3.0            1.0         5.0           3.0        4.0\n",
       "4         7.0            1.0         5.0           1.0        5.5"
      ]
     },
     "execution_count": 66,
     "metadata": {},
     "output_type": "execute_result"
    }
   ],
   "source": [
    "X.head()"
   ]
  },
  {
   "cell_type": "code",
   "execution_count": 67,
   "id": "bd5aa17c",
   "metadata": {},
   "outputs": [
    {
     "data": {
      "text/html": [
       "<div>\n",
       "<style scoped>\n",
       "    .dataframe tbody tr th:only-of-type {\n",
       "        vertical-align: middle;\n",
       "    }\n",
       "\n",
       "    .dataframe tbody tr th {\n",
       "        vertical-align: top;\n",
       "    }\n",
       "\n",
       "    .dataframe thead th {\n",
       "        text-align: right;\n",
       "    }\n",
       "</style>\n",
       "<table border=\"1\" class=\"dataframe\">\n",
       "  <thead>\n",
       "    <tr style=\"text-align: right;\">\n",
       "      <th></th>\n",
       "      <th>End of the day Feeling (0 to 10)</th>\n",
       "    </tr>\n",
       "  </thead>\n",
       "  <tbody>\n",
       "    <tr>\n",
       "      <th>0</th>\n",
       "      <td>6.0</td>\n",
       "    </tr>\n",
       "    <tr>\n",
       "      <th>1</th>\n",
       "      <td>4.0</td>\n",
       "    </tr>\n",
       "    <tr>\n",
       "      <th>2</th>\n",
       "      <td>5.0</td>\n",
       "    </tr>\n",
       "    <tr>\n",
       "      <th>3</th>\n",
       "      <td>8.0</td>\n",
       "    </tr>\n",
       "    <tr>\n",
       "      <th>4</th>\n",
       "      <td>10.0</td>\n",
       "    </tr>\n",
       "  </tbody>\n",
       "</table>\n",
       "</div>"
      ],
      "text/plain": [
       "   End of the day Feeling (0 to 10)\n",
       "0                               6.0\n",
       "1                               4.0\n",
       "2                               5.0\n",
       "3                               8.0\n",
       "4                              10.0"
      ]
     },
     "execution_count": 67,
     "metadata": {},
     "output_type": "execute_result"
    }
   ],
   "source": [
    "y.head()"
   ]
  },
  {
   "cell_type": "code",
   "execution_count": 87,
   "id": "cc2604d9",
   "metadata": {},
   "outputs": [],
   "source": [
    "X=pd.get_dummies(dataset[['Sleep Hour','Exercise Hour','Study Hour','StudyDS Hour',\n",
    "                          'Work Hour']],drop_first=True)"
   ]
  },
  {
   "cell_type": "code",
   "execution_count": 88,
   "id": "f9c3db0e",
   "metadata": {},
   "outputs": [
    {
     "data": {
      "text/html": [
       "<div>\n",
       "<style scoped>\n",
       "    .dataframe tbody tr th:only-of-type {\n",
       "        vertical-align: middle;\n",
       "    }\n",
       "\n",
       "    .dataframe tbody tr th {\n",
       "        vertical-align: top;\n",
       "    }\n",
       "\n",
       "    .dataframe thead th {\n",
       "        text-align: right;\n",
       "    }\n",
       "</style>\n",
       "<table border=\"1\" class=\"dataframe\">\n",
       "  <thead>\n",
       "    <tr style=\"text-align: right;\">\n",
       "      <th></th>\n",
       "      <th>Sleep Hour</th>\n",
       "      <th>Exercise Hour</th>\n",
       "      <th>Study Hour</th>\n",
       "      <th>StudyDS Hour</th>\n",
       "      <th>Work Hour</th>\n",
       "    </tr>\n",
       "  </thead>\n",
       "  <tbody>\n",
       "    <tr>\n",
       "      <th>0</th>\n",
       "      <td>5.0</td>\n",
       "      <td>1.0</td>\n",
       "      <td>2.0</td>\n",
       "      <td>0.0</td>\n",
       "      <td>7.0</td>\n",
       "    </tr>\n",
       "    <tr>\n",
       "      <th>1</th>\n",
       "      <td>5.0</td>\n",
       "      <td>0.0</td>\n",
       "      <td>0.0</td>\n",
       "      <td>0.0</td>\n",
       "      <td>2.0</td>\n",
       "    </tr>\n",
       "    <tr>\n",
       "      <th>2</th>\n",
       "      <td>8.0</td>\n",
       "      <td>1.0</td>\n",
       "      <td>1.0</td>\n",
       "      <td>0.0</td>\n",
       "      <td>12.0</td>\n",
       "    </tr>\n",
       "    <tr>\n",
       "      <th>3</th>\n",
       "      <td>3.0</td>\n",
       "      <td>1.0</td>\n",
       "      <td>5.0</td>\n",
       "      <td>3.0</td>\n",
       "      <td>4.0</td>\n",
       "    </tr>\n",
       "    <tr>\n",
       "      <th>4</th>\n",
       "      <td>7.0</td>\n",
       "      <td>1.0</td>\n",
       "      <td>5.0</td>\n",
       "      <td>1.0</td>\n",
       "      <td>5.5</td>\n",
       "    </tr>\n",
       "  </tbody>\n",
       "</table>\n",
       "</div>"
      ],
      "text/plain": [
       "   Sleep Hour  Exercise Hour  Study Hour  StudyDS Hour  Work Hour\n",
       "0         5.0            1.0         2.0           0.0        7.0\n",
       "1         5.0            0.0         0.0           0.0        2.0\n",
       "2         8.0            1.0         1.0           0.0       12.0\n",
       "3         3.0            1.0         5.0           3.0        4.0\n",
       "4         7.0            1.0         5.0           1.0        5.5"
      ]
     },
     "execution_count": 88,
     "metadata": {},
     "output_type": "execute_result"
    }
   ],
   "source": [
    "X.head()"
   ]
  },
  {
   "cell_type": "code",
   "execution_count": 89,
   "id": "cb05ada7",
   "metadata": {},
   "outputs": [],
   "source": [
    "from sklearn.model_selection import train_test_split\n",
    "X_train,X_test,y_train,y_test = train_test_split(X,y, test_size=.2, random_state=0)"
   ]
  },
  {
   "cell_type": "code",
   "execution_count": 90,
   "id": "3bb584f6",
   "metadata": {},
   "outputs": [
    {
     "data": {
      "text/plain": [
       "LinearRegression()"
      ]
     },
     "execution_count": 90,
     "metadata": {},
     "output_type": "execute_result"
    }
   ],
   "source": [
    "from sklearn.linear_model import LinearRegression\n",
    "regressor=LinearRegression()\n",
    "regressor.fit(X_train,y_train)"
   ]
  },
  {
   "cell_type": "code",
   "execution_count": 91,
   "id": "f028213c",
   "metadata": {},
   "outputs": [
    {
     "name": "stdout",
     "output_type": "stream",
     "text": [
      "Coefficients [[ 0.14172934 -0.34450306  1.28138604 -0.89795903 -0.06469491]]\n"
     ]
    }
   ],
   "source": [
    "print(\"Coefficients\",regressor.coef_)"
   ]
  },
  {
   "cell_type": "code",
   "execution_count": 92,
   "id": "04c97653",
   "metadata": {},
   "outputs": [
    {
     "name": "stdout",
     "output_type": "stream",
     "text": [
      "intercept [2.52608722]\n"
     ]
    }
   ],
   "source": [
    "print(\"intercept\", regressor.intercept_)"
   ]
  },
  {
   "cell_type": "code",
   "execution_count": 93,
   "id": "50dfdb84",
   "metadata": {},
   "outputs": [],
   "source": [
    "y_pred=regressor.predict(X_test)"
   ]
  },
  {
   "cell_type": "code",
   "execution_count": 94,
   "id": "07bf18ba",
   "metadata": {},
   "outputs": [
    {
     "data": {
      "text/plain": [
       "array([[8.32683876]])"
      ]
     },
     "execution_count": 94,
     "metadata": {},
     "output_type": "execute_result"
    }
   ],
   "source": [
    "regressor.predict([[7,1,5,1,5.5]])"
   ]
  },
  {
   "cell_type": "code",
   "execution_count": 95,
   "id": "287a431b",
   "metadata": {},
   "outputs": [
    {
     "data": {
      "text/plain": [
       "array([[6.78200196]])"
      ]
     },
     "execution_count": 95,
     "metadata": {},
     "output_type": "execute_result"
    }
   ],
   "source": [
    "regressor.predict([[4,1,4,1,3]])"
   ]
  },
  {
   "cell_type": "code",
   "execution_count": 96,
   "id": "d8c75e14",
   "metadata": {},
   "outputs": [
    {
     "data": {
      "text/plain": [
       "array([[2.74850153]])"
      ]
     },
     "execution_count": 96,
     "metadata": {},
     "output_type": "execute_result"
    }
   ],
   "source": [
    "regressor.predict([[4,1,0,0,0]])"
   ]
  },
  {
   "cell_type": "code",
   "execution_count": 97,
   "id": "c72e8690",
   "metadata": {},
   "outputs": [
    {
     "data": {
      "text/plain": [
       "array([[8.18510942]])"
      ]
     },
     "execution_count": 97,
     "metadata": {},
     "output_type": "execute_result"
    }
   ],
   "source": [
    "regressor.predict([[6,1,5,1,5.5]])"
   ]
  },
  {
   "cell_type": "code",
   "execution_count": 98,
   "id": "603c7bf9",
   "metadata": {},
   "outputs": [
    {
     "data": {
      "text/plain": [
       "array([[6.06104569]])"
      ]
     },
     "execution_count": 98,
     "metadata": {},
     "output_type": "execute_result"
    }
   ],
   "source": [
    "regressor.predict([[3,1,5,3,4]])"
   ]
  },
  {
   "cell_type": "code",
   "execution_count": 99,
   "id": "951aed1f",
   "metadata": {},
   "outputs": [
    {
     "name": "stdout",
     "output_type": "stream",
     "text": [
      "r2_score 0.09092225774583029\n"
     ]
    }
   ],
   "source": [
    "from sklearn.metrics import r2_score\n",
    "print(\"r2_score\",r2_score(y_test,y_pred))"
   ]
  },
  {
   "cell_type": "code",
   "execution_count": 100,
   "id": "6291ca13",
   "metadata": {},
   "outputs": [],
   "source": [
    "import statsmodels.api as sm\n",
    "X=sm.add_constant(X)"
   ]
  },
  {
   "cell_type": "code",
   "execution_count": 101,
   "id": "e30f41fb",
   "metadata": {},
   "outputs": [],
   "source": [
    "model=sm.OLS(y,X).fit()"
   ]
  },
  {
   "cell_type": "code",
   "execution_count": 102,
   "id": "6eef43a9",
   "metadata": {},
   "outputs": [
    {
     "data": {
      "text/html": [
       "<table class=\"simpletable\">\n",
       "<caption>OLS Regression Results</caption>\n",
       "<tr>\n",
       "  <th>Dep. Variable:</th>    <td>End of the day Feeling (0 to 10)</td> <th>  R-squared:         </th> <td>   0.446</td>\n",
       "</tr>\n",
       "<tr>\n",
       "  <th>Model:</th>                           <td>OLS</td>               <th>  Adj. R-squared:    </th> <td>   0.400</td>\n",
       "</tr>\n",
       "<tr>\n",
       "  <th>Method:</th>                     <td>Least Squares</td>          <th>  F-statistic:       </th> <td>   9.668</td>\n",
       "</tr>\n",
       "<tr>\n",
       "  <th>Date:</th>                     <td>Tue, 22 Mar 2022</td>         <th>  Prob (F-statistic):</th> <td>8.31e-07</td>\n",
       "</tr>\n",
       "<tr>\n",
       "  <th>Time:</th>                         <td>01:59:02</td>             <th>  Log-Likelihood:    </th> <td> -131.61</td>\n",
       "</tr>\n",
       "<tr>\n",
       "  <th>No. Observations:</th>              <td>    66</td>              <th>  AIC:               </th> <td>   275.2</td>\n",
       "</tr>\n",
       "<tr>\n",
       "  <th>Df Residuals:</th>                  <td>    60</td>              <th>  BIC:               </th> <td>   288.4</td>\n",
       "</tr>\n",
       "<tr>\n",
       "  <th>Df Model:</th>                      <td>     5</td>              <th>                     </th>     <td> </td>   \n",
       "</tr>\n",
       "<tr>\n",
       "  <th>Covariance Type:</th>              <td>nonrobust</td>            <th>                     </th>     <td> </td>   \n",
       "</tr>\n",
       "</table>\n",
       "<table class=\"simpletable\">\n",
       "<tr>\n",
       "        <td></td>           <th>coef</th>     <th>std err</th>      <th>t</th>      <th>P>|t|</th>  <th>[0.025</th>    <th>0.975]</th>  \n",
       "</tr>\n",
       "<tr>\n",
       "  <th>const</th>         <td>    2.5978</td> <td>    1.672</td> <td>    1.554</td> <td> 0.126</td> <td>   -0.747</td> <td>    5.942</td>\n",
       "</tr>\n",
       "<tr>\n",
       "  <th>Sleep Hour</th>    <td>    0.1253</td> <td>    0.220</td> <td>    0.568</td> <td> 0.572</td> <td>   -0.316</td> <td>    0.566</td>\n",
       "</tr>\n",
       "<tr>\n",
       "  <th>Exercise Hour</th> <td>   -0.3582</td> <td>    1.257</td> <td>   -0.285</td> <td> 0.777</td> <td>   -2.872</td> <td>    2.156</td>\n",
       "</tr>\n",
       "<tr>\n",
       "  <th>Study Hour</th>    <td>    1.1827</td> <td>    0.195</td> <td>    6.077</td> <td> 0.000</td> <td>    0.793</td> <td>    1.572</td>\n",
       "</tr>\n",
       "<tr>\n",
       "  <th>StudyDS Hour</th>  <td>   -0.7634</td> <td>    0.336</td> <td>   -2.270</td> <td> 0.027</td> <td>   -1.436</td> <td>   -0.091</td>\n",
       "</tr>\n",
       "<tr>\n",
       "  <th>Work Hour</th>     <td>   -0.0247</td> <td>    0.094</td> <td>   -0.263</td> <td> 0.793</td> <td>   -0.212</td> <td>    0.163</td>\n",
       "</tr>\n",
       "</table>\n",
       "<table class=\"simpletable\">\n",
       "<tr>\n",
       "  <th>Omnibus:</th>       <td> 0.154</td> <th>  Durbin-Watson:     </th> <td>   1.091</td>\n",
       "</tr>\n",
       "<tr>\n",
       "  <th>Prob(Omnibus):</th> <td> 0.926</td> <th>  Jarque-Bera (JB):  </th> <td>   0.229</td>\n",
       "</tr>\n",
       "<tr>\n",
       "  <th>Skew:</th>          <td>-0.109</td> <th>  Prob(JB):          </th> <td>   0.892</td>\n",
       "</tr>\n",
       "<tr>\n",
       "  <th>Kurtosis:</th>      <td> 2.810</td> <th>  Cond. No.          </th> <td>    70.8</td>\n",
       "</tr>\n",
       "</table><br/><br/>Notes:<br/>[1] Standard Errors assume that the covariance matrix of the errors is correctly specified."
      ],
      "text/plain": [
       "<class 'statsmodels.iolib.summary.Summary'>\n",
       "\"\"\"\n",
       "                                   OLS Regression Results                                   \n",
       "============================================================================================\n",
       "Dep. Variable:     End of the day Feeling (0 to 10)   R-squared:                       0.446\n",
       "Model:                                          OLS   Adj. R-squared:                  0.400\n",
       "Method:                               Least Squares   F-statistic:                     9.668\n",
       "Date:                              Tue, 22 Mar 2022   Prob (F-statistic):           8.31e-07\n",
       "Time:                                      01:59:02   Log-Likelihood:                -131.61\n",
       "No. Observations:                                66   AIC:                             275.2\n",
       "Df Residuals:                                    60   BIC:                             288.4\n",
       "Df Model:                                         5                                         \n",
       "Covariance Type:                          nonrobust                                         \n",
       "=================================================================================\n",
       "                    coef    std err          t      P>|t|      [0.025      0.975]\n",
       "---------------------------------------------------------------------------------\n",
       "const             2.5978      1.672      1.554      0.126      -0.747       5.942\n",
       "Sleep Hour        0.1253      0.220      0.568      0.572      -0.316       0.566\n",
       "Exercise Hour    -0.3582      1.257     -0.285      0.777      -2.872       2.156\n",
       "Study Hour        1.1827      0.195      6.077      0.000       0.793       1.572\n",
       "StudyDS Hour     -0.7634      0.336     -2.270      0.027      -1.436      -0.091\n",
       "Work Hour        -0.0247      0.094     -0.263      0.793      -0.212       0.163\n",
       "==============================================================================\n",
       "Omnibus:                        0.154   Durbin-Watson:                   1.091\n",
       "Prob(Omnibus):                  0.926   Jarque-Bera (JB):                0.229\n",
       "Skew:                          -0.109   Prob(JB):                        0.892\n",
       "Kurtosis:                       2.810   Cond. No.                         70.8\n",
       "==============================================================================\n",
       "\n",
       "Notes:\n",
       "[1] Standard Errors assume that the covariance matrix of the errors is correctly specified.\n",
       "\"\"\""
      ]
     },
     "execution_count": 102,
     "metadata": {},
     "output_type": "execute_result"
    }
   ],
   "source": [
    "model.summary()"
   ]
  }
 ],
 "metadata": {
  "kernelspec": {
   "display_name": "Python 3",
   "language": "python",
   "name": "python3"
  },
  "language_info": {
   "codemirror_mode": {
    "name": "ipython",
    "version": 3
   },
   "file_extension": ".py",
   "mimetype": "text/x-python",
   "name": "python",
   "nbconvert_exporter": "python",
   "pygments_lexer": "ipython3",
   "version": "3.8.8"
  }
 },
 "nbformat": 4,
 "nbformat_minor": 5
}
